{
 "cells": [
  {
   "cell_type": "code",
   "execution_count": 47,
   "metadata": {},
   "outputs": [],
   "source": [
    "%matplotlib inline\n",
    "import matplotlib\n",
    "import numpy as np\n",
    "import matplotlib.pyplot as plt\n",
    "import pandas as pd\n",
    "import seaborn as sns\n",
    "\n",
    "from sklearn.tree import DecisionTreeRegressor\n",
    "from sklearn.ensemble import RandomForestRegressor\n",
    "from sklearn.ensemble import GradientBoostingRegressor\n",
    "from sklearn.model_selection import cross_val_score\n",
    "from sklearn.metrics import mean_squared_error as mse\n",
    "from sklearn.metrics import mean_absolute_error as mae\n",
    "from sklearn.metrics import accuracy_score as acc\n",
    "from sklearn.metrics import make_scorer\n",
    "from sklearn.dummy import DummyRegressor\n",
    "from sklearn.dummy import DummyClassifier\n",
    "from sklearn.preprocessing import LabelEncoder"
   ]
  },
  {
   "cell_type": "code",
   "execution_count": 48,
   "metadata": {},
   "outputs": [],
   "source": [
    "df = pd.read_csv(\"./bank-additional-full.csv\", delimiter = \";\")"
   ]
  },
  {
   "cell_type": "code",
   "execution_count": 49,
   "metadata": {},
   "outputs": [
    {
     "data": {
      "text/html": [
       "<div>\n",
       "<style scoped>\n",
       "    .dataframe tbody tr th:only-of-type {\n",
       "        vertical-align: middle;\n",
       "    }\n",
       "\n",
       "    .dataframe tbody tr th {\n",
       "        vertical-align: top;\n",
       "    }\n",
       "\n",
       "    .dataframe thead th {\n",
       "        text-align: right;\n",
       "    }\n",
       "</style>\n",
       "<table border=\"1\" class=\"dataframe\">\n",
       "  <thead>\n",
       "    <tr style=\"text-align: right;\">\n",
       "      <th></th>\n",
       "      <th>age</th>\n",
       "      <th>job</th>\n",
       "      <th>marital</th>\n",
       "      <th>education</th>\n",
       "      <th>default</th>\n",
       "      <th>housing</th>\n",
       "      <th>loan</th>\n",
       "      <th>contact</th>\n",
       "      <th>month</th>\n",
       "      <th>day_of_week</th>\n",
       "      <th>...</th>\n",
       "      <th>campaign</th>\n",
       "      <th>pdays</th>\n",
       "      <th>previous</th>\n",
       "      <th>poutcome</th>\n",
       "      <th>emp.var.rate</th>\n",
       "      <th>cons.price.idx</th>\n",
       "      <th>cons.conf.idx</th>\n",
       "      <th>euribor3m</th>\n",
       "      <th>nr.employed</th>\n",
       "      <th>y</th>\n",
       "    </tr>\n",
       "  </thead>\n",
       "  <tbody>\n",
       "    <tr>\n",
       "      <th>0</th>\n",
       "      <td>56</td>\n",
       "      <td>housemaid</td>\n",
       "      <td>married</td>\n",
       "      <td>basic.4y</td>\n",
       "      <td>no</td>\n",
       "      <td>no</td>\n",
       "      <td>no</td>\n",
       "      <td>telephone</td>\n",
       "      <td>may</td>\n",
       "      <td>mon</td>\n",
       "      <td>...</td>\n",
       "      <td>1</td>\n",
       "      <td>999</td>\n",
       "      <td>0</td>\n",
       "      <td>nonexistent</td>\n",
       "      <td>1.1</td>\n",
       "      <td>93.994</td>\n",
       "      <td>-36.4</td>\n",
       "      <td>4.857</td>\n",
       "      <td>5191.0</td>\n",
       "      <td>no</td>\n",
       "    </tr>\n",
       "    <tr>\n",
       "      <th>1</th>\n",
       "      <td>57</td>\n",
       "      <td>services</td>\n",
       "      <td>married</td>\n",
       "      <td>high.school</td>\n",
       "      <td>unknown</td>\n",
       "      <td>no</td>\n",
       "      <td>no</td>\n",
       "      <td>telephone</td>\n",
       "      <td>may</td>\n",
       "      <td>mon</td>\n",
       "      <td>...</td>\n",
       "      <td>1</td>\n",
       "      <td>999</td>\n",
       "      <td>0</td>\n",
       "      <td>nonexistent</td>\n",
       "      <td>1.1</td>\n",
       "      <td>93.994</td>\n",
       "      <td>-36.4</td>\n",
       "      <td>4.857</td>\n",
       "      <td>5191.0</td>\n",
       "      <td>no</td>\n",
       "    </tr>\n",
       "    <tr>\n",
       "      <th>2</th>\n",
       "      <td>37</td>\n",
       "      <td>services</td>\n",
       "      <td>married</td>\n",
       "      <td>high.school</td>\n",
       "      <td>no</td>\n",
       "      <td>yes</td>\n",
       "      <td>no</td>\n",
       "      <td>telephone</td>\n",
       "      <td>may</td>\n",
       "      <td>mon</td>\n",
       "      <td>...</td>\n",
       "      <td>1</td>\n",
       "      <td>999</td>\n",
       "      <td>0</td>\n",
       "      <td>nonexistent</td>\n",
       "      <td>1.1</td>\n",
       "      <td>93.994</td>\n",
       "      <td>-36.4</td>\n",
       "      <td>4.857</td>\n",
       "      <td>5191.0</td>\n",
       "      <td>no</td>\n",
       "    </tr>\n",
       "    <tr>\n",
       "      <th>3</th>\n",
       "      <td>40</td>\n",
       "      <td>admin.</td>\n",
       "      <td>married</td>\n",
       "      <td>basic.6y</td>\n",
       "      <td>no</td>\n",
       "      <td>no</td>\n",
       "      <td>no</td>\n",
       "      <td>telephone</td>\n",
       "      <td>may</td>\n",
       "      <td>mon</td>\n",
       "      <td>...</td>\n",
       "      <td>1</td>\n",
       "      <td>999</td>\n",
       "      <td>0</td>\n",
       "      <td>nonexistent</td>\n",
       "      <td>1.1</td>\n",
       "      <td>93.994</td>\n",
       "      <td>-36.4</td>\n",
       "      <td>4.857</td>\n",
       "      <td>5191.0</td>\n",
       "      <td>no</td>\n",
       "    </tr>\n",
       "    <tr>\n",
       "      <th>4</th>\n",
       "      <td>56</td>\n",
       "      <td>services</td>\n",
       "      <td>married</td>\n",
       "      <td>high.school</td>\n",
       "      <td>no</td>\n",
       "      <td>no</td>\n",
       "      <td>yes</td>\n",
       "      <td>telephone</td>\n",
       "      <td>may</td>\n",
       "      <td>mon</td>\n",
       "      <td>...</td>\n",
       "      <td>1</td>\n",
       "      <td>999</td>\n",
       "      <td>0</td>\n",
       "      <td>nonexistent</td>\n",
       "      <td>1.1</td>\n",
       "      <td>93.994</td>\n",
       "      <td>-36.4</td>\n",
       "      <td>4.857</td>\n",
       "      <td>5191.0</td>\n",
       "      <td>no</td>\n",
       "    </tr>\n",
       "  </tbody>\n",
       "</table>\n",
       "<p>5 rows × 21 columns</p>\n",
       "</div>"
      ],
      "text/plain": [
       "   age        job  marital    education  default housing loan    contact  \\\n",
       "0   56  housemaid  married     basic.4y       no      no   no  telephone   \n",
       "1   57   services  married  high.school  unknown      no   no  telephone   \n",
       "2   37   services  married  high.school       no     yes   no  telephone   \n",
       "3   40     admin.  married     basic.6y       no      no   no  telephone   \n",
       "4   56   services  married  high.school       no      no  yes  telephone   \n",
       "\n",
       "  month day_of_week ...  campaign  pdays  previous     poutcome emp.var.rate  \\\n",
       "0   may         mon ...         1    999         0  nonexistent          1.1   \n",
       "1   may         mon ...         1    999         0  nonexistent          1.1   \n",
       "2   may         mon ...         1    999         0  nonexistent          1.1   \n",
       "3   may         mon ...         1    999         0  nonexistent          1.1   \n",
       "4   may         mon ...         1    999         0  nonexistent          1.1   \n",
       "\n",
       "   cons.price.idx  cons.conf.idx  euribor3m  nr.employed   y  \n",
       "0          93.994          -36.4      4.857       5191.0  no  \n",
       "1          93.994          -36.4      4.857       5191.0  no  \n",
       "2          93.994          -36.4      4.857       5191.0  no  \n",
       "3          93.994          -36.4      4.857       5191.0  no  \n",
       "4          93.994          -36.4      4.857       5191.0  no  \n",
       "\n",
       "[5 rows x 21 columns]"
      ]
     },
     "execution_count": 49,
     "metadata": {},
     "output_type": "execute_result"
    }
   ],
   "source": [
    "df.head()"
   ]
  },
  {
   "cell_type": "code",
   "execution_count": 50,
   "metadata": {},
   "outputs": [],
   "source": [
    "df_dummies = pd.get_dummies(df)"
   ]
  },
  {
   "cell_type": "code",
   "execution_count": 51,
   "metadata": {},
   "outputs": [
    {
     "name": "stdout",
     "output_type": "stream",
     "text": [
      "   age  duration  campaign  pdays  previous  emp.var.rate  cons.price.idx  \\\n",
      "0   56       261         1    999         0           1.1          93.994   \n",
      "1   57       149         1    999         0           1.1          93.994   \n",
      "2   37       226         1    999         0           1.1          93.994   \n",
      "3   40       151         1    999         0           1.1          93.994   \n",
      "4   56       307         1    999         0           1.1          93.994   \n",
      "\n",
      "   cons.conf.idx  euribor3m  nr.employed  ...    day_of_week_fri  \\\n",
      "0          -36.4      4.857       5191.0  ...                  0   \n",
      "1          -36.4      4.857       5191.0  ...                  0   \n",
      "2          -36.4      4.857       5191.0  ...                  0   \n",
      "3          -36.4      4.857       5191.0  ...                  0   \n",
      "4          -36.4      4.857       5191.0  ...                  0   \n",
      "\n",
      "   day_of_week_mon  day_of_week_thu  day_of_week_tue  day_of_week_wed  \\\n",
      "0                1                0                0                0   \n",
      "1                1                0                0                0   \n",
      "2                1                0                0                0   \n",
      "3                1                0                0                0   \n",
      "4                1                0                0                0   \n",
      "\n",
      "   poutcome_failure  poutcome_nonexistent  poutcome_success  y_no  y_yes  \n",
      "0                 0                     1                 0     1      0  \n",
      "1                 0                     1                 0     1      0  \n",
      "2                 0                     1                 0     1      0  \n",
      "3                 0                     1                 0     1      0  \n",
      "4                 0                     1                 0     1      0  \n",
      "\n",
      "[5 rows x 65 columns]\n"
     ]
    }
   ],
   "source": [
    "print(df_dummies.head())"
   ]
  },
  {
   "cell_type": "code",
   "execution_count": 52,
   "metadata": {},
   "outputs": [],
   "source": [
    "df_copy = df_dummies.copy()"
   ]
  },
  {
   "cell_type": "code",
   "execution_count": 53,
   "metadata": {},
   "outputs": [],
   "source": [
    "del df_copy[\"y_no\"]"
   ]
  },
  {
   "cell_type": "code",
   "execution_count": 54,
   "metadata": {},
   "outputs": [],
   "source": [
    "del df_copy[\"duration\"]"
   ]
  },
  {
   "cell_type": "code",
   "execution_count": 55,
   "metadata": {},
   "outputs": [],
   "source": [
    "df_copy.head()\n",
    "features = list(df_copy.columns.values)"
   ]
  },
  {
   "cell_type": "code",
   "execution_count": 56,
   "metadata": {},
   "outputs": [
    {
     "data": {
      "image/png": "[encoded data removed]",
      "text/plain": [
       "<matplotlib.figure.Figure at 0x7f21d58ee630>"
      ]
     },
     "metadata": {},
     "output_type": "display_data"
    }
   ],
   "source": [
    "df_copyt = df_copy.transpose()\n",
    "yd=df_dummies[\"y_yes\"].values\n",
    "sns_plot = sns.distplot(yd,bins=2, kde = False, rug = False).get_figure()\n",
    "\n",
    "# sns.distplot(y, kde=False, rug=True)\n",
    "\n",
    "sns_plot.savefig(\"histogram_y_yes.png\",bbox_inches='tight')\n",
    "sns_plot.savefig(\"histogram_y_yes.pdf\",bbox_inches='tight')"
   ]
  },
  {
   "cell_type": "code",
   "execution_count": 58,
   "metadata": {},
   "outputs": [
    {
     "name": "stdout",
     "output_type": "stream",
     "text": [
      "ACC: 0.80 (+/- 0.17)\n",
      "Dummy ACC: 0.80\n"
     ]
    }
   ],
   "source": [
    "from sklearn.ensemble import RandomForestClassifier\n",
    "from sklearn.ensemble import ExtraTreesClassifier\n",
    "\n",
    "y = df_copy['y_yes'].values\n",
    "df_copy2 = df_copy.copy()\n",
    "del df_copy2['y_yes']\n",
    "X = df_copy2.values\n",
    "\n",
    "clf = ExtraTreesClassifier(n_estimators = 100,max_depth = 4)\n",
    "\n",
    "dummy_clf = DummyClassifier()\n",
    "scores = cross_val_score(clf, X, y, cv=10,scoring = make_scorer(acc))\n",
    "\n",
    "dummy_clf.fit(X,y)\n",
    "\n",
    "print(\"ACC: %0.2f (+/- %0.2f)\" % (scores.mean(), scores.std()))\n",
    "print(\"Dummy ACC: %0.2f\"% (acc(y,dummy_clf.predict(X))))"
   ]
  },
  {
   "cell_type": "code",
   "execution_count": 68,
   "metadata": {},
   "outputs": [
    {
     "data": {
      "text/plain": [
       "ExtraTreesClassifier(bootstrap=False, class_weight=None, criterion='gini',\n",
       "           max_depth=4, max_features='auto', max_leaf_nodes=None,\n",
       "           min_impurity_decrease=0.0, min_impurity_split=None,\n",
       "           min_samples_leaf=1, min_samples_split=2,\n",
       "           min_weight_fraction_leaf=0.0, n_estimators=100, n_jobs=1,\n",
       "           oob_score=False, random_state=None, verbose=0, warm_start=False)"
      ]
     },
     "execution_count": 68,
     "metadata": {},
     "output_type": "execute_result"
    }
   ],
   "source": [
    "clf.fit(X, y)"
   ]
  },
  {
   "cell_type": "code",
   "execution_count": 73,
   "metadata": {},
   "outputs": [
    {
     "name": "stdout",
     "output_type": "stream",
     "text": [
      "100\n",
      "[ 2 61  8  7  4 60 49  6 42 43 52  3 59 50  5 53  0 34 48 33 10 46 17 44\n",
      " 51 14 55 47 45 27 23  1 57 31 22 32 54 16 58 28 20 18 56 38 11 36 39  9\n",
      " 26 41 40 25 37 15 21 30 12 13 29 24 19 35]\n",
      "Feature ranking:\n",
      "1. pdays (0.159017)\n",
      "2. poutcome_success (0.152372)\n",
      "3. nr.employed (0.126142)\n",
      "4. euribor3m (0.121699)\n",
      "5. emp.var.rate (0.098123)\n",
      "6. poutcome_nonexistent (0.042767)\n",
      "7. month_mar (0.034227)\n",
      "8. cons.conf.idx (0.031934)\n",
      "9. contact_cellular (0.031427)\n",
      "10. contact_telephone (0.022768)\n",
      "11. month_oct (0.022268)\n",
      "12. previous (0.021996)\n",
      "13. poutcome_failure (0.021759)\n",
      "14. month_may (0.017568)\n",
      "15. cons.price.idx (0.014677)\n",
      "16. month_sep (0.013934)\n",
      "17. age (0.009337)\n",
      "18. default_unknown (0.008641)\n",
      "19. month_jun (0.008577)\n",
      "20. default_no (0.006662)\n",
      "21. job_blue-collar (0.005607)\n",
      "22. month_dec (0.004597)\n",
      "23. job_student (0.004032)\n",
      "24. month_apr (0.003814)\n",
      "25. month_nov (0.002494)\n",
      "26. job_retired (0.002416)\n",
      "27. day_of_week_mon (0.001619)\n",
      "28. month_jul (0.001516)\n",
      "29. month_aug (0.001218)\n",
      "30. education_basic.9y (0.001213)\n",
      "31. marital_single (0.001154)\n",
      "32. campaign (0.000656)\n",
      "33. day_of_week_tue (0.000506)\n",
      "34. education_university.degree (0.000270)\n",
      "35. marital_married (0.000248)\n",
      "36. education_unknown (0.000195)\n",
      "37. day_of_week_fri (0.000185)\n",
      "38. job_services (0.000184)\n",
      "39. day_of_week_wed (0.000172)\n",
      "40. education_high.school (0.000149)\n",
      "41. job_unknown (0.000146)\n",
      "42. job_technician (0.000145)\n",
      "43. day_of_week_thu (0.000134)\n",
      "44. housing_yes (0.000122)\n",
      "45. job_entrepreneur (0.000122)\n",
      "46. housing_no (0.000118)\n",
      "47. loan_no (0.000114)\n",
      "48. job_admin. (0.000114)\n",
      "49. education_basic.6y (0.000107)\n",
      "50. loan_yes (0.000105)\n",
      "51. loan_unknown (0.000104)\n",
      "52. education_basic.4y (0.000103)\n",
      "53. housing_unknown (0.000090)\n",
      "54. job_self-employed (0.000089)\n",
      "55. marital_divorced (0.000078)\n",
      "56. education_professional.course (0.000044)\n",
      "57. job_housemaid (0.000037)\n",
      "58. job_management (0.000029)\n",
      "59. education_illiterate (0.000026)\n",
      "60. marital_unknown (0.000017)\n",
      "61. job_unemployed (0.000016)\n",
      "62. default_yes (0.000000)\n"
     ]
    }
   ],
   "source": [
    "importances = clf.feature_importances_\n",
    "print(len(clf.estimators_))\n",
    "indices = np.argsort(importances)[::-1]\n",
    "print (indices)\n",
    "# Print the feature ranking\n",
    "print(\"Feature ranking:\")\n",
    "\n",
    "for f in range(X.shape[1]):\n",
    "    print(\"%d. %s (%f)\" % (f + 1, features[indices[f]],  importances[indices[f]]))"
   ]
  },
  {
   "cell_type": "code",
   "execution_count": 77,
   "metadata": {},
   "outputs": [
    {
     "name": "stdout",
     "output_type": "stream",
     "text": [
      "[[36350   198]\n",
      " [ 3988   652]]\n"
     ]
    }
   ],
   "source": [
    "from sklearn.metrics import confusion_matrix\n",
    "import itertools\n",
    "\n",
    "# Compute confusion matrix\n",
    "y_pred = clf.predict(X)\n",
    "cnf_matrix = confusion_matrix(y, y_pred)\n",
    "np.set_printoptions(precision=2)\n",
    "\n",
    "# Plot non-normalized confusion matrix\n",
    "print(cnf_matrix)"
   ]
  },
  {
   "cell_type": "code",
   "execution_count": null,
   "metadata": {},
   "outputs": [],
   "source": []
  }
 ],
 "metadata": {
  "kernelspec": {
   "display_name": "Python 3",
   "language": "python",
   "name": "python3"
  },
  "language_info": {
   "codemirror_mode": {
    "name": "ipython",
    "version": 3
   },
   "file_extension": ".py",
   "mimetype": "text/x-python",
   "name": "python",
   "nbconvert_exporter": "python",
   "pygments_lexer": "ipython3",
   "version": "3.5.2"
  }
 },
 "nbformat": 4,
 "nbformat_minor": 2
}
